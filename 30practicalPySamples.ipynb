{
 "cells": [
  {
   "cell_type": "code",
   "execution_count": 2,
   "metadata": {},
   "outputs": [
    {
     "data": {
      "text/plain": [
       "True"
      ]
     },
     "execution_count": 2,
     "metadata": {},
     "output_type": "execute_result"
    }
   ],
   "source": [
    "from collections import Counter\n",
    "\n",
    "\n",
    "def anagram(first, second):\n",
    "    return Counter(first) == Counter(second)\n",
    "\n",
    "\n",
    "anagram(\"abcd3\", \"3acdb\")\n"
   ]
  },
  {
   "cell_type": "code",
   "execution_count": 7,
   "metadata": {},
   "outputs": [
    {
     "name": "stdout",
     "output_type": "stream",
     "text": [
      "80\n"
     ]
    }
   ],
   "source": [
    "# 内存占用\n",
    "import sys\n",
    "variable1 = \"鲍晨轩\"\n",
    "print(sys.getsizeof(variable1))\n"
   ]
  },
  {
   "cell_type": "code",
   "execution_count": 10,
   "metadata": {},
   "outputs": [
    {
     "name": "stdout",
     "output_type": "stream",
     "text": [
      "0\n",
      "9\n"
     ]
    }
   ],
   "source": [
    "# 字节占用\n",
    "def byte_size(string):\n",
    "    return(len(string.encode('utf-8')))\n",
    "\n",
    "\n",
    "print(byte_size(''))\n",
    "print(byte_size('胡紫鑫'))\n"
   ]
  },
  {
   "cell_type": "code",
   "execution_count": 11,
   "metadata": {},
   "outputs": [
    {
     "data": {
      "text/plain": [
       "[[1, 2], [3, 4], [5]]"
      ]
     },
     "execution_count": 11,
     "metadata": {},
     "output_type": "execute_result"
    }
   ],
   "source": [
    "from math import ceil\n",
    "\n",
    "\n",
    "def chunk(lst, size):\n",
    "    return list(map(lambda x: lst[x*size:x*size+size], list(range(0, ceil(len(lst)/size)))))\n",
    "\n",
    "\n",
    "chunk([1, 2, 3, 4, 5], 2)\n"
   ]
  },
  {
   "cell_type": "code",
   "execution_count": 27,
   "metadata": {},
   "outputs": [
    {
     "name": "stdout",
     "output_type": "stream",
     "text": [
      "('a', 'c', 'e')\n",
      "('b', 'd', 'f')\n"
     ]
    }
   ],
   "source": [
    "# 解包\n",
    "array = [['a', 'b'], ['c', 'd'], ['e', 'f']]\n",
    "transposed = zip(*array)\n",
    "for i in transposed:\n",
    "    print(i)\n"
   ]
  },
  {
   "cell_type": "code",
   "execution_count": 28,
   "metadata": {},
   "outputs": [
    {
     "name": "stdout",
     "output_type": "stream",
     "text": [
      "[('a', 'c', 'e'), ('b', 'd', 'f')]\n"
     ]
    }
   ],
   "source": [
    "array = [['a', 'b'], ['c', 'd'], ['e', 'f']]\n",
    "transposed = zip(*array)\n",
    "\n",
    "print(list(transposed))\n"
   ]
  },
  {
   "cell_type": "code",
   "execution_count": 30,
   "metadata": {},
   "outputs": [
    {
     "name": "stdout",
     "output_type": "stream",
     "text": [
      "True\n",
      "False\n"
     ]
    }
   ],
   "source": [
    "# 链式对比\n",
    "a = 3\n",
    "print(2 < a < 8)\n",
    "\n",
    "print(1 == a > 2)\n"
   ]
  },
  {
   "cell_type": "code",
   "execution_count": 33,
   "metadata": {},
   "outputs": [
    {
     "data": {
      "text/plain": [
       "3"
      ]
     },
     "execution_count": 33,
     "metadata": {},
     "output_type": "execute_result"
    }
   ],
   "source": [
    "# 元音统计\n",
    "import re\n",
    "\n",
    "\n",
    "def count_vowels(str):\n",
    "    return len(re.findall(r'[aeiou]', str, re.IGNORECASE))\n",
    "\n",
    "\n",
    "count_vowels('foobar')\n"
   ]
  },
  {
   "cell_type": "code",
   "execution_count": 36,
   "metadata": {},
   "outputs": [
    {
     "data": {
      "text/plain": [
       "[1, 2, 3, 4, 5]"
      ]
     },
     "execution_count": 36,
     "metadata": {},
     "output_type": "execute_result"
    }
   ],
   "source": [
    "# 展开列表\n",
    "def spread(arg):\n",
    "    ret = []\n",
    "    for i in arg:\n",
    "        if isinstance(i, list):\n",
    "            ret.extend(i)\n",
    "        else:\n",
    "            ret.append(i)\n",
    "    return ret\n",
    "\n",
    "\n",
    "def deep_flatten(lst):\n",
    "    result = []\n",
    "    result.extend(\n",
    "        spread(list(map(lambda x: deep_flatten(x) if type(x) == list else x, lst))))\n",
    "    return result\n",
    "\n",
    "\n",
    "deep_flatten([1, [2], [[3], 4], 5])\n"
   ]
  },
  {
   "cell_type": "code",
   "execution_count": 37,
   "metadata": {},
   "outputs": [
    {
     "name": "stdout",
     "output_type": "stream",
     "text": [
      "9\n"
     ]
    }
   ],
   "source": [
    "# 链式函数调用\n",
    "def add(a, b):\n",
    "    return a + b\n",
    "\n",
    "\n",
    "def subtract(a, b):\n",
    "    return a-b\n",
    "\n",
    "\n",
    "a, b = 4, 5\n",
    "print((subtract if a > b else add)(a, b))\n"
   ]
  },
  {
   "cell_type": "code",
   "execution_count": 40,
   "metadata": {},
   "outputs": [
    {
     "data": {
      "text/plain": [
       "[1, 2, 3, 4, 5, 6, 7, 8, 9]"
      ]
     },
     "execution_count": 40,
     "metadata": {},
     "output_type": "execute_result"
    }
   ],
   "source": [
    "# 展开列表\n",
    "\n",
    "def spread(arg):\n",
    "    ret = []\n",
    "    for i in arg:\n",
    "        if isinstance(i, list):\n",
    "            ret.extend(i)\n",
    "        else:\n",
    "            ret.append(i)\n",
    "    return ret\n",
    "\n",
    "\n",
    "spread([1, 2, 3, [4, 5, 6], [7], 8, 9])\n"
   ]
  },
  {
   "cell_type": "code",
   "execution_count": 1,
   "metadata": {},
   "outputs": [
    {
     "name": "stdout",
     "output_type": "stream",
     "text": [
      "2610633233728\n",
      "2610633230464\n",
      "[2, 3, 4, 5, 6, 7, 8]\n",
      "[3, 4, 5, 6, 7, 8]\n",
      "[4, 5, 6, 7, 8]\n",
      "[5, 6, 7, 8]\n",
      "[6, 7, 8]\n",
      "[6, 7, 8]\n",
      "[6, 7, 8]\n",
      "[6, 7, 8]\n",
      "---------\n",
      "2610633233728\n"
     ]
    }
   ],
   "source": [
    "\n",
    "a = [1, 2, 3, 4, 5, 6, 7, 8]\n",
    "print(id(a))\n",
    "print(id(a[:]))\n",
    "for i in a[:]:\n",
    "    if i > 5:\n",
    "        pass\n",
    "    else:\n",
    "        a.remove(i)\n",
    "    print(a)\n",
    "print('---------')\n",
    "print(id(a))\n"
   ]
  },
  {
   "cell_type": "code",
   "execution_count": 2,
   "metadata": {},
   "outputs": [
    {
     "name": "stdout",
     "output_type": "stream",
     "text": [
      "[6, 7, 8]\n"
     ]
    }
   ],
   "source": [
    "a = [1, 2, 3, 4, 5, 6, 7, 8]\n",
    "b = filter(lambda x: x > 5, a)\n",
    "print(list(b))\n"
   ]
  },
  {
   "cell_type": "code",
   "execution_count": 3,
   "metadata": {},
   "outputs": [
    {
     "name": "stdout",
     "output_type": "stream",
     "text": [
      "[6, 7, 8]\n"
     ]
    }
   ],
   "source": [
    "a = [1, 2, 3, 4, 5, 6, 7, 8]\n",
    "b = [i for i in a if i > 5]\n",
    "print(b)\n"
   ]
  },
  {
   "cell_type": "code",
   "execution_count": 5,
   "metadata": {},
   "outputs": [
    {
     "name": "stdout",
     "output_type": "stream",
     "text": [
      "2610633013504\n",
      "2610633013504\n",
      "-------\n",
      "[6, 7, 8]\n"
     ]
    }
   ],
   "source": [
    "a = [1, 2, 3, 4, 5, 6, 7, 8]\n",
    "print(id(a))\n",
    "for i in range(len(a)-1, -1, -1):\n",
    "    if a[i] > 5:\n",
    "        pass\n",
    "    else:\n",
    "        a.remove(a[i])\n",
    "print(id(a))\n",
    "print('-------')\n",
    "print(a)\n"
   ]
  },
  {
   "cell_type": "code",
   "execution_count": 6,
   "metadata": {},
   "outputs": [
    {
     "name": "stdout",
     "output_type": "stream",
     "text": [
      "abcdefgijklmqrsuvwxz\n"
     ]
    }
   ],
   "source": [
    "def get_missing_letter(a):\n",
    "    s1 = set(\"abcdefghijklmnopqrstuvwxyz\")\n",
    "    s2 = set(a.lower())\n",
    "    ret = \"\".join(sorted(s1-s2))\n",
    "    return ret\n",
    "\n",
    "\n",
    "print(get_missing_letter(\"python\"))\n"
   ]
  },
  {
   "cell_type": "code",
   "execution_count": 7,
   "metadata": {},
   "outputs": [
    {
     "name": "stdout",
     "output_type": "stream",
     "text": [
      "10254\n"
     ]
    }
   ],
   "source": [
    "from functools import reduce\n",
    "num1 = reduce(lambda x, y: x+y, [1, 2, 3, 10248])\n",
    "print(num1)\n"
   ]
  },
  {
   "cell_type": "code",
   "execution_count": 8,
   "metadata": {},
   "outputs": [
    {
     "name": "stdout",
     "output_type": "stream",
     "text": [
      "123\n"
     ]
    }
   ],
   "source": [
    "def atoi(s):\n",
    "    num = 0\n",
    "    for v in s:\n",
    "        for j in range(10):\n",
    "            if v == str(j):\n",
    "                num = num*10+j\n",
    "    return num\n",
    "\n",
    "print(atoi('123'))\n"
   ]
  },
  {
   "cell_type": "code",
   "execution_count": 9,
   "metadata": {},
   "outputs": [
    {
     "name": "stdout",
     "output_type": "stream",
     "text": [
      "456\n"
     ]
    }
   ],
   "source": [
    "def atoi(s):\n",
    "    num = 0\n",
    "    for v in s:\n",
    "        num = num*10+ord(v)-ord('0')\n",
    "    return num\n",
    "\n",
    "print(atoi('456'))\n"
   ]
  },
  {
   "cell_type": "code",
   "execution_count": 17,
   "metadata": {},
   "outputs": [
    {
     "data": {
      "text/plain": [
       "432"
      ]
     },
     "execution_count": 17,
     "metadata": {},
     "output_type": "execute_result"
    }
   ],
   "source": [
    "from functools import reduce\n",
    "def atoi(s):\n",
    "    return reduce(lambda num, v:num*10+ord(v)-ord('0'),s,0)\n",
    "\n",
    "atoi('432')"
   ]
  },
  {
   "cell_type": "code",
   "execution_count": 18,
   "metadata": {},
   "outputs": [
    {
     "name": "stdout",
     "output_type": "stream",
     "text": [
      "1.4141845703125\n"
     ]
    }
   ],
   "source": [
    "x = 2\n",
    "low = 0.0\n",
    "high = x\n",
    "\n",
    "guess =(low + high)/2\n",
    "while abs(guess**2-x)>1e-4:\n",
    "    if guess **2>x:\n",
    "        high = guess\n",
    "    else:\n",
    "        low = guess\n",
    "    guess = (low+high)/2\n",
    "\n",
    "print(guess)"
   ]
  },
  {
   "cell_type": "code",
   "execution_count": 1,
   "metadata": {},
   "outputs": [
    {
     "name": "stdout",
     "output_type": "stream",
     "text": [
      "[1, 2, 4, 5, 7, 10, 8, 9, 0, 3]\n"
     ]
    }
   ],
   "source": [
    "#python代码实现删除一个list里面的重复元素\n",
    "def distFunc3(a):\n",
    "    b={}\n",
    "    b=b.fromkeys(a)\n",
    "    c=list(b.keys())\n",
    "    print(c)\n",
    "\n",
    "if __name__==\"__main__\":\n",
    "    a = [1,2,4,2,4,5,7,10,5,5,7,8,9,0,3]\n",
    "    distFunc3(a)"
   ]
  },
  {
   "cell_type": "code",
   "execution_count": 4,
   "metadata": {},
   "outputs": [
    {
     "name": "stdout",
     "output_type": "stream",
     "text": [
      "[9, 9, 9, 9]\n"
     ]
    }
   ],
   "source": [
    "def multi():\n",
    "    return [lambda x:i*x for i in range(4)]\n",
    "print([m(3) for m in multi()])"
   ]
  },
  {
   "cell_type": "code",
   "execution_count": 5,
   "metadata": {},
   "outputs": [
    {
     "name": "stdout",
     "output_type": "stream",
     "text": [
      "A4B2C3\n"
     ]
    }
   ],
   "source": [
    "def count_str(str_data):\n",
    "    dict_str = {}\n",
    "    for i in str_data:\n",
    "        dict_str[i] = dict_str.get(i, 0)+1\n",
    "    return dict_str\n",
    "\n",
    "\n",
    "dict_str = count_str(\"AAABBCCAC\")\n",
    "str_count_data = \"\"\n",
    "for k, v in dict_str.items():\n",
    "    str_count_data += k + str(v)\n",
    "print(str_count_data)\n"
   ]
  },
  {
   "cell_type": "code",
   "execution_count": 7,
   "metadata": {},
   "outputs": [
    {
     "name": "stdout",
     "output_type": "stream",
     "text": [
      "A4C3B2\n"
     ]
    }
   ],
   "source": [
    "from collections import Counter\n",
    "\n",
    "print(\"\".join(map(lambda x: x[0]+str(x[1]),Counter(\"AAABBCCAC\").most_common())))"
   ]
  },
  {
   "cell_type": "code",
   "execution_count": 8,
   "metadata": {},
   "outputs": [
    {
     "name": "stdout",
     "output_type": "stream",
     "text": [
      "宝马\n",
      "['__class__', '__delattr__', '__dict__', '__dir__', '__doc__', '__eq__', '__format__', '__ge__', '__getattribute__', '__gt__', '__hash__', '__init__', '__init_subclass__', '__le__', '__lt__', '__module__', '__ne__', '__new__', '__reduce__', '__reduce_ex__', '__repr__', '__setattr__', '__sizeof__', '__str__', '__subclasshook__', '__weakref__', 'getLoss', 'getName', 'getPrice', 'loss', 'name']\n"
     ]
    }
   ],
   "source": [
    "#遍历一个object的所有属性,并print每一个属性名\n",
    "class Car:\n",
    "    def __init__(self,name,loss):  #loss[价格,油耗,公里数]\n",
    "        self.name = name\n",
    "        self.loss = loss\n",
    "    \n",
    "    def getName(self):\n",
    "        return self.name\n",
    "\n",
    "    def getPrice(self):\n",
    "        #获取汽车价格\n",
    "        return self.loss[0]\n",
    "\n",
    "    def getLoss(self):\n",
    "        #获取汽车损耗值\n",
    "        return self.loss[1]*self.loss[2]\n",
    "\n",
    "Bmw=Car(\"宝马\",[60,9,500]) #实例化一个宝马车对象\n",
    "print(getattr(Bmw,\"name\")) #使用getattr()传入对象名字,属性值.\n",
    "print(dir(Bmw)) #获取Bmw所有的属性和方法"
   ]
  },
  {
   "cell_type": "code",
   "execution_count": 9,
   "metadata": {},
   "outputs": [],
   "source": [
    "#写一个类,并让它尽可能多的支持操作符\n",
    "class Array:\n",
    "    __list = []\n",
    "    \n",
    "    def __init__(self):\n",
    "       print (\"constructor\")\n",
    "    \n",
    "    def __del__(self):\n",
    "        print(\"destruct\")\n",
    "\n",
    "    def __str__(self):\n",
    "        return \"this self-defined array class\"\n",
    "\n",
    "    def __getitem__(self,key):\n",
    "        return self.__list[key]\n",
    "\n",
    "    def __len__(self):\n",
    "        return len(self.__list)\n",
    "\n",
    "    def Add(self,value):\n",
    "        self.__list.append(value)\n",
    "\n",
    "    def Remove(self,index):\n",
    "        del self.__list[index]\n",
    "    \n",
    "    def DisplayItems(self):\n",
    "        print (\"show all items---\")\n",
    "        for item in self.__list:\n",
    "            print (item)\n",
    "            "
   ]
  },
  {
   "cell_type": "code",
   "execution_count": 10,
   "metadata": {},
   "outputs": [
    {
     "ename": "NameError",
     "evalue": "name 'Parent' is not defined",
     "output_type": "error",
     "traceback": [
      "\u001b[1;31m---------------------------------------------------------------------------\u001b[0m",
      "\u001b[1;31mNameError\u001b[0m                                 Traceback (most recent call last)",
      "\u001b[1;32mc:\\Users\\Administrator\\Documents\\My Coding\\PyCoding\\30practicalPySamples.ipynb Cell 28'\u001b[0m in \u001b[0;36m<cell line: 1>\u001b[1;34m()\u001b[0m\n\u001b[1;32m----> <a href='vscode-notebook-cell:/c%3A/Users/Administrator/Documents/My%20Coding/PyCoding/30practicalPySamples.ipynb#ch0000027?line=0'>1</a>\u001b[0m \u001b[39mif\u001b[39;00m \u001b[39mhasattr\u001b[39m(Parent,\u001b[39m'\u001b[39m\u001b[39mx\u001b[39m\u001b[39m'\u001b[39m):\n\u001b[0;32m      <a href='vscode-notebook-cell:/c%3A/Users/Administrator/Documents/My%20Coding/PyCoding/30practicalPySamples.ipynb#ch0000027?line=1'>2</a>\u001b[0m     \u001b[39mprint\u001b[39m(\u001b[39mgetattr\u001b[39m(Parent,\u001b[39m'\u001b[39m\u001b[39mx\u001b[39m\u001b[39m'\u001b[39m))\n\u001b[0;32m      <a href='vscode-notebook-cell:/c%3A/Users/Administrator/Documents/My%20Coding/PyCoding/30practicalPySamples.ipynb#ch0000027?line=2'>3</a>\u001b[0m     \u001b[39msetattr\u001b[39m(Parent,\u001b[39m'\u001b[39m\u001b[39mx\u001b[39m\u001b[39m'\u001b[39m,\u001b[39m3\u001b[39m)\n",
      "\u001b[1;31mNameError\u001b[0m: name 'Parent' is not defined"
     ]
    }
   ],
   "source": [
    "#如何动态获取和设置对象的属性\n",
    "if hasattr(Parent,'x'):\n",
    "    print(getattr(Parent,'x'))\n",
    "    setattr(Parent,'x',3)\n",
    "print(getattr(Parent,'x'))"
   ]
  },
  {
   "cell_type": "code",
   "execution_count": 13,
   "metadata": {},
   "outputs": [
    {
     "ename": "TimeException",
     "evalue": "函数已过时",
     "output_type": "error",
     "traceback": [
      "\u001b[1;31m---------------------------------------------------------------------------\u001b[0m",
      "\u001b[1;31mTimeException\u001b[0m                             Traceback (most recent call last)",
      "\u001b[1;32mc:\\Users\\Administrator\\Documents\\My Coding\\PyCoding\\30practicalPySamples.ipynb Cell 29'\u001b[0m in \u001b[0;36m<cell line: 26>\u001b[1;34m()\u001b[0m\n\u001b[0;32m     <a href='vscode-notebook-cell:/c%3A/Users/Administrator/Documents/My%20Coding/PyCoding/30practicalPySamples.ipynb#ch0000028?line=22'>23</a>\u001b[0m     \u001b[39mprint\u001b[39m(\u001b[39m\"\u001b[39m\u001b[39mHello \u001b[39m\u001b[39m{}\u001b[39;00m\u001b[39m,2019 Happy\u001b[39m\u001b[39m\"\u001b[39m\u001b[39m.\u001b[39mformat(name))\n\u001b[0;32m     <a href='vscode-notebook-cell:/c%3A/Users/Administrator/Documents/My%20Coding/PyCoding/30practicalPySamples.ipynb#ch0000028?line=25'>26</a>\u001b[0m \u001b[39mif\u001b[39;00m \u001b[39m__name__\u001b[39m\u001b[39m==\u001b[39m\u001b[39m\"\u001b[39m\u001b[39m__main__\u001b[39m\u001b[39m\"\u001b[39m:\n\u001b[1;32m---> <a href='vscode-notebook-cell:/c%3A/Users/Administrator/Documents/My%20Coding/PyCoding/30practicalPySamples.ipynb#ch0000028?line=26'>27</a>\u001b[0m     test(\u001b[39m\"\u001b[39;49m\u001b[39mDanny\u001b[39;49m\u001b[39m\"\u001b[39;49m)\n",
      "\u001b[1;32mc:\\Users\\Administrator\\Documents\\My Coding\\PyCoding\\30practicalPySamples.ipynb Cell 29'\u001b[0m in \u001b[0;36mtimecheck.<locals>.wrapper\u001b[1;34m(*args, **kwargs)\u001b[0m\n\u001b[0;32m     <a href='vscode-notebook-cell:/c%3A/Users/Administrator/Documents/My%20Coding/PyCoding/30practicalPySamples.ipynb#ch0000028?line=15'>16</a>\u001b[0m     func(\u001b[39m*\u001b[39margs,\u001b[39m*\u001b[39m\u001b[39m*\u001b[39mkwargs)\n\u001b[0;32m     <a href='vscode-notebook-cell:/c%3A/Users/Administrator/Documents/My%20Coding/PyCoding/30practicalPySamples.ipynb#ch0000028?line=16'>17</a>\u001b[0m \u001b[39melse\u001b[39;00m:\n\u001b[1;32m---> <a href='vscode-notebook-cell:/c%3A/Users/Administrator/Documents/My%20Coding/PyCoding/30practicalPySamples.ipynb#ch0000028?line=17'>18</a>\u001b[0m     \u001b[39mraise\u001b[39;00m TimeException(\u001b[39m\"\u001b[39m\u001b[39m函数已过时\u001b[39m\u001b[39m\"\u001b[39m)\n",
      "\u001b[1;31mTimeException\u001b[0m: 函数已过时"
     ]
    }
   ],
   "source": [
    "#判断时间的装饰器\n",
    "\n",
    "import datetime\n",
    "\n",
    "class TimeException(Exception):\n",
    "    def __init__(self, exception_info):\n",
    "        super().__init__()\n",
    "        self.info = exception_info\n",
    "    \n",
    "    def __str__(self):\n",
    "        return self.info\n",
    "\n",
    "def timecheck(func):\n",
    "    def wrapper(*args,**kwargs):\n",
    "        if datetime.datetime.now().year == 2019:\n",
    "            func(*args,**kwargs)\n",
    "        else:\n",
    "            raise TimeException(\"函数已过时\")\n",
    "    return wrapper\n",
    "\n",
    "@timecheck\n",
    "def test(name):\n",
    "    print(\"Hello {},2019 Happy\".format(name))\n",
    "\n",
    "\n",
    "if __name__==\"__main__\":\n",
    "    test(\"Danny\")"
   ]
  },
  {
   "cell_type": "code",
   "execution_count": 14,
   "metadata": {},
   "outputs": [
    {
     "data": {
      "text/plain": [
       "[0, 2, 4, 6, 8]"
      ]
     },
     "execution_count": 14,
     "metadata": {},
     "output_type": "execute_result"
    }
   ],
   "source": [
    "list(filter(lambda x:x%2==0,range(10)))"
   ]
  },
  {
   "cell_type": "code",
   "execution_count": 18,
   "metadata": {},
   "outputs": [
    {
     "name": "stdout",
     "output_type": "stream",
     "text": [
      "通过认证\n",
      "开始执行附加功能\n",
      "开始执行函数\n"
     ]
    }
   ],
   "source": [
    "# 带定长参数的装饰器\n",
    "def new_func(func):\n",
    "    def wrappedfun(username, passwd):\n",
    "        if username == 'root' and passwd == '123456789':\n",
    "            print('通过认证')\n",
    "            print('开始执行附加功能')\n",
    "            return func()\n",
    "        else:\n",
    "            print('用户名或密码错误')\n",
    "            return\n",
    "    return wrappedfun\n",
    "\n",
    "\n",
    "@new_func\n",
    "def origin():\n",
    "    print('开始执行函数')\n",
    "\n",
    "\n",
    "origin('root', '123456789')\n"
   ]
  },
  {
   "cell_type": "code",
   "execution_count": 17,
   "metadata": {},
   "outputs": [
    {
     "name": "stdout",
     "output_type": "stream",
     "text": [
      "本系统包含root  123456789  等 2 部分\n",
      "开始执行函数\n"
     ]
    }
   ],
   "source": [
    "#带不定长参数的装饰器\n",
    "def new_func(func):\n",
    "    def wrappedfun(*parts):\n",
    "        if parts:\n",
    "            counts = len(parts)\n",
    "            print('本系统包含',end='')\n",
    "            for part in parts:\n",
    "                print(part,' ',end='')\n",
    "            print('等',counts,'部分')\n",
    "            return func()\n",
    "        else:\n",
    "            print('用户名或密码错误')\n",
    "            return func()\n",
    "    return wrappedfun\n",
    "\n",
    "\n",
    "    \n",
    "@new_func\n",
    "def origin():\n",
    "    print('开始执行函数')\n",
    "\n",
    "\n",
    "origin('root', '123456789')"
   ]
  },
  {
   "cell_type": "code",
   "execution_count": 1,
   "metadata": {},
   "outputs": [
    {
     "name": "stdout",
     "output_type": "stream",
     "text": [
      "Thread-7set num to1\n",
      "Thread-6set num to2\n",
      "Thread-4set num to3\n",
      "Thread-3set num to4\n",
      "Thread-5set num to5\n"
     ]
    }
   ],
   "source": [
    "#多线程共同操作同一个数据互斥锁同步\n",
    "import threading\n",
    "import time\n",
    "class MyThread(threading.Thread):\n",
    "    def run(self):\n",
    "        global num\n",
    "        time.sleep(1)\n",
    "\n",
    "        if mutex.acquire(1):\n",
    "            num+=1\n",
    "            msg=self.name+'set num to'+str(num)\n",
    "            print (msg)\n",
    "            mutex.release()\n",
    "\n",
    "num = 0\n",
    "mutex = threading.Lock()\n",
    "def test():\n",
    "    for i in range(5):\n",
    "        t=MyThread()\n",
    "        t.start()\n",
    "\n",
    "if __name__==\"__main__\":\n",
    "    test()\n"
   ]
  },
  {
   "cell_type": "code",
   "execution_count": 2,
   "metadata": {},
   "outputs": [
    {
     "name": "stdout",
     "output_type": "stream",
     "text": [
      "---主线程---结束\n",
      "---子线程结束---\n"
     ]
    }
   ],
   "source": [
    "import threading\n",
    "import time\n",
    "\n",
    "def thread():\n",
    "    time.sleep(2)\n",
    "    print('---子线程结束---')\n",
    "\n",
    "def main():\n",
    "    t1 = threading.Thread(target=thread)\n",
    "    t1.start()\n",
    "    print('---主线程---结束')\n",
    "\n",
    "if __name__ == '__main__':\n",
    "    main()\n",
    "\n"
   ]
  },
  {
   "cell_type": "code",
   "execution_count": 3,
   "metadata": {},
   "outputs": [
    {
     "name": "stdout",
     "output_type": "stream",
     "text": [
      "---主线程结束---\n"
     ]
    },
    {
     "name": "stderr",
     "output_type": "stream",
     "text": [
      "C:\\Users\\Administrator\\AppData\\Local\\Temp\\ipykernel_2020\\3293739007.py:8: DeprecationWarning: setDaemon() is deprecated, set the daemon attribute instead\n",
      "  t1.setDaemon(True)\n"
     ]
    },
    {
     "name": "stdout",
     "output_type": "stream",
     "text": [
      "---子线程结束---\n"
     ]
    }
   ],
   "source": [
    "import threading\n",
    "import time\n",
    "def thread():\n",
    "    time.sleep(2)\n",
    "    print('---子线程结束---')\n",
    "def main():\n",
    "    t1=threading.Thread(target=thread)\n",
    "    t1.setDaemon(True)\n",
    "    t1.start()\n",
    "    print('---主线程结束---')\n",
    "if __name__=='__main__':\n",
    "    main()"
   ]
  },
  {
   "cell_type": "code",
   "execution_count": 4,
   "metadata": {},
   "outputs": [
    {
     "name": "stderr",
     "output_type": "stream",
     "text": [
      "C:\\Users\\Administrator\\AppData\\Local\\Temp\\ipykernel_2020\\2339882007.py:10: DeprecationWarning: setDaemon() is deprecated, set the daemon attribute instead\n",
      "  t1.setDaemon(True)\n"
     ]
    },
    {
     "name": "stdout",
     "output_type": "stream",
     "text": [
      "---主线程结束---\n",
      "---子线程结束---\n"
     ]
    }
   ],
   "source": [
    "import threading\n",
    "import time\n",
    "\n",
    "def thread():\n",
    "    time.sleep(2)\n",
    "    print('---子线程结束---')\n",
    "\n",
    "def main():\n",
    "    t1 = threading.Thread(target=thread)\n",
    "    t1.setDaemon(True)\n",
    "    t1.start()\n",
    "    t1.join(timeout=1)\n",
    "    print('---主线程结束---')\n",
    "\n",
    "if __name__=='__main__':\n",
    "    main()"
   ]
  },
  {
   "cell_type": "code",
   "execution_count": 1,
   "metadata": {},
   "outputs": [
    {
     "data": {
      "text/plain": [
       "8"
      ]
     },
     "execution_count": 1,
     "metadata": {},
     "output_type": "execute_result"
    }
   ],
   "source": [
    "#<Programming Interview Problems Dynamic programming>\n",
    "def fibonacci(n):\n",
    "    if n<=2:\n",
    "        return 1\n",
    "    return fibonacci(n-1)+fibonacci(n-2)\n",
    "\n",
    "fibonacci(6)"
   ]
  },
  {
   "cell_type": "code",
   "execution_count": 2,
   "metadata": {},
   "outputs": [
    {
     "name": "stdout",
     "output_type": "stream",
     "text": [
      "                                              fibonacci(6)called\n",
      "                                                fibonacci(5)called\n",
      "                                                  fibonacci(4)called\n",
      "                                                    fibonacci(3)called\n",
      "                                                      fibonacci(2)called\n",
      "                                                      fibonacci(1)called\n",
      "                                                    fibonacci(2)called\n",
      "                                                  fibonacci(3)called\n",
      "                                                    fibonacci(2)called\n",
      "                                                    fibonacci(1)called\n",
      "                                                fibonacci(4)called\n",
      "                                                  fibonacci(3)called\n",
      "                                                    fibonacci(2)called\n",
      "                                                    fibonacci(1)called\n",
      "                                                  fibonacci(2)called\n"
     ]
    },
    {
     "data": {
      "text/plain": [
       "8"
      ]
     },
     "execution_count": 2,
     "metadata": {},
     "output_type": "execute_result"
    }
   ],
   "source": [
    "import inspect\n",
    "def stack_depth():\n",
    "    return len(inspect.getouterframes(inspect.currentframe()))-1\n",
    "\n",
    "def fibonacci(n):\n",
    "    print(\"{indent}fibonacci({n})called\".format(indent=\"  \"*stack_depth(),n=n))\n",
    "\n",
    "    if n <=2:\n",
    "        return 1\n",
    "    return fibonacci(n-1)+fibonacci(n-2)\n",
    "\n",
    "fibonacci(6)"
   ]
  },
  {
   "cell_type": "code",
   "execution_count": 3,
   "metadata": {},
   "outputs": [
    {
     "data": {
      "text/plain": [
       "8"
      ]
     },
     "execution_count": 3,
     "metadata": {},
     "output_type": "execute_result"
    }
   ],
   "source": [
    "def cached(f):\n",
    "    cache ={}\n",
    "    def worker(*args):\n",
    "        if args not in cache:\n",
    "            cache[args]=f(*args)\n",
    "        return cache[args]\n",
    "    return worker\n",
    "\n",
    "@cached\n",
    "def fibonacci(n):\n",
    "    if n<=2:\n",
    "        return 1\n",
    "    return fibonacci(n-1)+fibonacci(n-2)\n",
    "\n",
    "fibonacci(6)"
   ]
  },
  {
   "cell_type": "code",
   "execution_count": null,
   "metadata": {},
   "outputs": [],
   "source": [
    "from functools import lru_cache\n",
    "\n",
    "@lru_cache(maxsize=None)\n",
    "def fibonacci(n):\n",
    "    if n <=2:\n",
    "        return 1\n",
    "    return fibonacci(n-1)+fibonacci(n-2)\n",
    "    "
   ]
  },
  {
   "cell_type": "code",
   "execution_count": 7,
   "metadata": {},
   "outputs": [
    {
     "data": {
      "text/plain": [
       "2"
      ]
     },
     "execution_count": 7,
     "metadata": {},
     "output_type": "execute_result"
    }
   ],
   "source": [
    "def count_bits(x):\n",
    "    num_bits=0\n",
    "    while x:\n",
    "        num_bits+=x&1\n",
    "        x>>=1\n",
    "    return num_bits\n",
    "\n",
    "count_bits(3)"
   ]
  },
  {
   "cell_type": "code",
   "execution_count": 16,
   "metadata": {},
   "outputs": [
    {
     "name": "stdout",
     "output_type": "stream",
     "text": [
      "this is some text\n"
     ]
    },
    {
     "data": {
      "text/plain": [
       "' THIS IS SOME TEXT '"
      ]
     },
     "execution_count": 16,
     "metadata": {},
     "output_type": "execute_result"
    }
   ],
   "source": [
    "text = \" this is some text \"\n",
    "print(text.strip(\" \"))\n",
    "text.upper()"
   ]
  },
  {
   "cell_type": "code",
   "execution_count": null,
   "metadata": {},
   "outputs": [],
   "source": [
    "import random\n",
    "score = 0\n",
    "for i in range(1,6):\n",
    "    num1=random.randint(1,50)\n",
    "    num2=random.randint(1,50)\n",
    "    correct=num1+num2\n",
    "    print(num1,\"+\",num2,\"=\")\n",
    "    answer=int(input(\"Your answer: \"))\n",
    "    print()\n",
    "    if answer == correct:\n",
    "        score=score+1\n",
    "print(\"You scored\",score,\"out of 5\")\n"
   ]
  },
  {
   "cell_type": "code",
   "execution_count": 1,
   "metadata": {},
   "outputs": [],
   "source": [
    "import turtle\n",
    "turtle.shape(\"turtle\")\n",
    "\n",
    "for i in range(0,5):\n",
    "    turtle.forward(100)\n",
    "    turtle.right(72)\n",
    "\n",
    "turtle.exitonclick()"
   ]
  },
  {
   "cell_type": "code",
   "execution_count": 3,
   "metadata": {},
   "outputs": [
    {
     "name": "stdout",
     "output_type": "stream",
     "text": [
      "2\n",
      "strawberry\n"
     ]
    }
   ],
   "source": [
    "fruit_tuple =(\"apple\",\"banana\",\"strawberry\",\"orange\")\n",
    "print(fruit_tuple.index(\"strawberry\"))\n",
    "print(fruit_tuple[2])"
   ]
  },
  {
   "cell_type": "code",
   "execution_count": 1,
   "metadata": {},
   "outputs": [
    {
     "name": "stdout",
     "output_type": "stream",
     "text": [
      "18\n",
      "24\n",
      "32\n"
     ]
    }
   ],
   "source": [
    "ages = [5, 12, 17, 18, 24, 32]\n",
    "\n",
    "def myFunc(x:any)-> bool:\n",
    " if x < 18:\n",
    "   return False\n",
    " else:\n",
    "   return True\n",
    "\n",
    "adults = filter(myFunc, ages)\n",
    "\n",
    "for x in adults:\n",
    " print(x)"
   ]
  },
  {
   "cell_type": "code",
   "execution_count": null,
   "metadata": {},
   "outputs": [],
   "source": [
    "x = divmod(5, 2)\n",
    "print(x)"
   ]
  }
 ],
 "metadata": {
  "interpreter": {
   "hash": "369f2c481f4da34e4445cda3fffd2e751bd1c4d706f27375911949ba6bb62e1c"
  },
  "kernelspec": {
   "display_name": "Python 3.10.4 64-bit",
   "language": "python",
   "name": "python3"
  },
  "language_info": {
   "codemirror_mode": {
    "name": "ipython",
    "version": 3
   },
   "file_extension": ".py",
   "mimetype": "text/x-python",
   "name": "python",
   "nbconvert_exporter": "python",
   "pygments_lexer": "ipython3",
   "version": "3.10.4"
  },
  "orig_nbformat": 4
 },
 "nbformat": 4,
 "nbformat_minor": 2
}
